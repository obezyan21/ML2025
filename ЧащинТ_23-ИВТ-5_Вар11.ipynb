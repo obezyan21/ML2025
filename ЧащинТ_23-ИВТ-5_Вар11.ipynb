{
  "nbformat": 4,
  "nbformat_minor": 0,
  "metadata": {
    "colab": {
      "provenance": []
    },
    "kernelspec": {
      "name": "python3",
      "display_name": "Python 3"
    },
    "language_info": {
      "name": "python"
    }
  },
  "cells": [
    {
      "cell_type": "markdown",
      "source": [
        "# Вариант 11\n",
        "# Набор данных 2\n",
        "# Модели 1, 2"
      ],
      "metadata": {
        "id": "x_JMHPCtAOm_"
      }
    },
    {
      "cell_type": "markdown",
      "source": [
        "Описансие набора данных"
      ],
      "metadata": {
        "id": "EgbUfETuBhlW"
      }
    },
    {
      "cell_type": "markdown",
      "source": [
        "dateCrawled — когда объявление было впервые обработано парсером (все данные актуальны на эту дату).\n",
        "\n",
        "name — \"название\" автомобиля.\n",
        "\n",
        "seller — частное лицо или дилер.\n",
        "\n",
        "offerType — тип предложения.\n",
        "\n",
        "price — цена в объявлении.\n",
        "\n",
        "abtest — A/B-тестирование.\n",
        "\n",
        "vehicleType — тип транспортного средства.\n",
        "\n",
        "yearOfRegistration — год первой регистрации автомобиля.\n",
        "\n",
        "gearbox — тип коробки передач.\n",
        "\n",
        "powerPS — мощность автомобиля в лошадиных силах (PS).\n",
        "\n",
        "model — модель.\n",
        "\n",
        "kilometer — пробег в километрах.\n",
        "\n",
        "monthOfRegistration — месяц первой регистрации.\n",
        "\n",
        "fuelType — тип топлива.\n",
        "\n",
        "brand — марка автомобиля.\n",
        "\n",
        "notRepairedDamage — наличие не устраненных повреждений.\n",
        "\n",
        "dateCreated — дата создания объявления на eBay.\n",
        "\n",
        "nrOfPictures — количество фотографий в объявлении (к сожалению, в этом поле везде стоит 0, что делает его бесполезным из-за ошибки в парсере).\n",
        "\n",
        "postalCode — почтовый индекс.\n",
        "\n",
        "lastSeenOnline — когда парсер в последний раз видел это объявление онлайн."
      ],
      "metadata": {
        "id": "QcMUC3oRB-cP"
      }
    },
    {
      "cell_type": "markdown",
      "source": [
        "Целевая колонка - price"
      ],
      "metadata": {
        "id": "sNqsFzL5CqHe"
      }
    },
    {
      "cell_type": "code",
      "execution_count": 63,
      "metadata": {
        "id": "A6CYb4OKAH-0"
      },
      "outputs": [],
      "source": [
        "import numpy as np\n",
        "import matplotlib\n",
        "import pandas as pd\n",
        "import matplotlib.pyplot as plt\n",
        "import seaborn as sns"
      ]
    },
    {
      "cell_type": "code",
      "source": [
        "df = pd.read_csv(\"autos.csv\", encoding='latin-1')\n",
        "df.info()"
      ],
      "metadata": {
        "colab": {
          "base_uri": "https://localhost:8080/"
        },
        "id": "_4umg3RpDG_W",
        "outputId": "426ba39c-646c-4edd-c2b3-054a0be3eb58"
      },
      "execution_count": 64,
      "outputs": [
        {
          "output_type": "stream",
          "name": "stdout",
          "text": [
            "<class 'pandas.core.frame.DataFrame'>\n",
            "RangeIndex: 113808 entries, 0 to 113807\n",
            "Data columns (total 20 columns):\n",
            " #   Column               Non-Null Count   Dtype  \n",
            "---  ------               --------------   -----  \n",
            " 0   dateCrawled          113808 non-null  object \n",
            " 1   name                 113808 non-null  object \n",
            " 2   seller               113807 non-null  object \n",
            " 3   offerType            113807 non-null  object \n",
            " 4   price                113807 non-null  float64\n",
            " 5   abtest               113807 non-null  object \n",
            " 6   vehicleType          102321 non-null  object \n",
            " 7   yearOfRegistration   113807 non-null  float64\n",
            " 8   gearbox              107670 non-null  object \n",
            " 9   powerPS              113807 non-null  float64\n",
            " 10  model                107559 non-null  object \n",
            " 11  kilometer            113807 non-null  float64\n",
            " 12  monthOfRegistration  113807 non-null  float64\n",
            " 13  fuelType             103519 non-null  object \n",
            " 14  brand                113807 non-null  object \n",
            " 15  notRepairedDamage    91706 non-null   object \n",
            " 16  dateCreated          113807 non-null  object \n",
            " 17  nrOfPictures         113807 non-null  float64\n",
            " 18  postalCode           113807 non-null  float64\n",
            " 19  lastSeen             113807 non-null  object \n",
            "dtypes: float64(7), object(13)\n",
            "memory usage: 17.4+ MB\n"
          ]
        }
      ]
    },
    {
      "cell_type": "markdown",
      "source": [
        "Удаление дубликатов"
      ],
      "metadata": {
        "id": "2leMdEKTGNVv"
      }
    },
    {
      "cell_type": "code",
      "source": [
        "df = df.drop_duplicates()\n",
        "df.info()"
      ],
      "metadata": {
        "colab": {
          "base_uri": "https://localhost:8080/"
        },
        "id": "Wzia3vTfFzNO",
        "outputId": "becd3ff7-a618-4082-b958-206c95482b6c"
      },
      "execution_count": 65,
      "outputs": [
        {
          "output_type": "stream",
          "name": "stdout",
          "text": [
            "<class 'pandas.core.frame.DataFrame'>\n",
            "RangeIndex: 113808 entries, 0 to 113807\n",
            "Data columns (total 20 columns):\n",
            " #   Column               Non-Null Count   Dtype  \n",
            "---  ------               --------------   -----  \n",
            " 0   dateCrawled          113808 non-null  object \n",
            " 1   name                 113808 non-null  object \n",
            " 2   seller               113807 non-null  object \n",
            " 3   offerType            113807 non-null  object \n",
            " 4   price                113807 non-null  float64\n",
            " 5   abtest               113807 non-null  object \n",
            " 6   vehicleType          102321 non-null  object \n",
            " 7   yearOfRegistration   113807 non-null  float64\n",
            " 8   gearbox              107670 non-null  object \n",
            " 9   powerPS              113807 non-null  float64\n",
            " 10  model                107559 non-null  object \n",
            " 11  kilometer            113807 non-null  float64\n",
            " 12  monthOfRegistration  113807 non-null  float64\n",
            " 13  fuelType             103519 non-null  object \n",
            " 14  brand                113807 non-null  object \n",
            " 15  notRepairedDamage    91706 non-null   object \n",
            " 16  dateCreated          113807 non-null  object \n",
            " 17  nrOfPictures         113807 non-null  float64\n",
            " 18  postalCode           113807 non-null  float64\n",
            " 19  lastSeen             113807 non-null  object \n",
            "dtypes: float64(7), object(13)\n",
            "memory usage: 17.4+ MB\n"
          ]
        }
      ]
    },
    {
      "cell_type": "markdown",
      "source": [
        "Удаление выбросов"
      ],
      "metadata": {
        "id": "rILroZ3TGQ2e"
      }
    },
    {
      "cell_type": "code",
      "source": [
        "sns.boxplot(data=df[['price', 'powerPS', 'kilometer']])\n",
        "plt.show()"
      ],
      "metadata": {
        "colab": {
          "base_uri": "https://localhost:8080/",
          "height": 445
        },
        "id": "frisuf1FGVC2",
        "outputId": "964fe9ed-22b8-4759-8c00-fe883b72dbb8"
      },
      "execution_count": 66,
      "outputs": [
        {
          "output_type": "display_data",
          "data": {
            "text/plain": [
              "<Figure size 640x480 with 1 Axes>"
            ],
            "image/png": "[encoded data removed]"
          },
          "metadata": {}
        }
      ]
    },
    {
      "cell_type": "code",
      "source": [
        "Q1 = df['price'].quantile(0.25)\n",
        "Q3 = df['price'].quantile(0.75)\n",
        "IQR = Q3 - Q1\n",
        "df = df[(df['price'] >= Q1 - 1.5 * IQR) & (df['price'] <= Q3 + 1.5 * IQR)]\n",
        "\n",
        "sns.boxplot(data=df[['price', 'powerPS', 'kilometer']])\n",
        "plt.show()"
      ],
      "metadata": {
        "colab": {
          "base_uri": "https://localhost:8080/",
          "height": 430
        },
        "id": "qjvbXymYJjtv",
        "outputId": "d9b5c24d-e193-47d5-949d-ac67e8d05fe8"
      },
      "execution_count": 67,
      "outputs": [
        {
          "output_type": "display_data",
          "data": {
            "text/plain": [
              "<Figure size 640x480 with 1 Axes>"
            ],
            "image/png": "[encoded data removed]"
          },
          "metadata": {}
        }
      ]
    },
    {
      "cell_type": "code",
      "source": [
        "df.info()"
      ],
      "metadata": {
        "colab": {
          "base_uri": "https://localhost:8080/"
        },
        "id": "BJlLCr-GJsE2",
        "outputId": "48c0996f-60d9-449e-f8af-873a940139d9"
      },
      "execution_count": 68,
      "outputs": [
        {
          "output_type": "stream",
          "name": "stdout",
          "text": [
            "<class 'pandas.core.frame.DataFrame'>\n",
            "Index: 105079 entries, 0 to 113806\n",
            "Data columns (total 20 columns):\n",
            " #   Column               Non-Null Count   Dtype  \n",
            "---  ------               --------------   -----  \n",
            " 0   dateCrawled          105079 non-null  object \n",
            " 1   name                 105079 non-null  object \n",
            " 2   seller               105079 non-null  object \n",
            " 3   offerType            105079 non-null  object \n",
            " 4   price                105079 non-null  float64\n",
            " 5   abtest               105079 non-null  object \n",
            " 6   vehicleType          93803 non-null   object \n",
            " 7   yearOfRegistration   105079 non-null  float64\n",
            " 8   gearbox              99106 non-null   object \n",
            " 9   powerPS              105079 non-null  float64\n",
            " 10  model                99179 non-null   object \n",
            " 11  kilometer            105079 non-null  float64\n",
            " 12  monthOfRegistration  105079 non-null  float64\n",
            " 13  fuelType             95046 non-null   object \n",
            " 14  brand                105079 non-null  object \n",
            " 15  notRepairedDamage    83439 non-null   object \n",
            " 16  dateCreated          105079 non-null  object \n",
            " 17  nrOfPictures         105079 non-null  float64\n",
            " 18  postalCode           105079 non-null  float64\n",
            " 19  lastSeen             105079 non-null  object \n",
            "dtypes: float64(7), object(13)\n",
            "memory usage: 16.8+ MB\n"
          ]
        }
      ]
    },
    {
      "cell_type": "markdown",
      "source": [
        "Матрица корреляции"
      ],
      "metadata": {
        "id": "JelhQB1Fi45p"
      }
    },
    {
      "cell_type": "code",
      "source": [
        "corr = df[['price', 'yearOfRegistration', 'monthOfRegistration', 'powerPS', 'kilometer']].corr()\n",
        "sns.heatmap(corr, annot=True)"
      ],
      "metadata": {
        "colab": {
          "base_uri": "https://localhost:8080/",
          "height": 584
        },
        "id": "Lzm-PxoVi7FQ",
        "outputId": "b1523fd3-025f-4421-8e33-95a21ecb97ba"
      },
      "execution_count": 69,
      "outputs": [
        {
          "output_type": "execute_result",
          "data": {
            "text/plain": [
              "<Axes: >"
            ]
          },
          "metadata": {},
          "execution_count": 69
        },
        {
          "output_type": "display_data",
          "data": {
            "text/plain": [
              "<Figure size 640x480 with 2 Axes>"
            ],
            "image/png": "[encoded data removed]"
          },
          "metadata": {}
        }
      ]
    },
    {
      "cell_type": "markdown",
      "source": [
        "Никаких сильно коррелирующих признаков не видно"
      ],
      "metadata": {
        "id": "7yGjpmjOjbAJ"
      }
    },
    {
      "cell_type": "markdown",
      "source": [
        "Анализ пропусков"
      ],
      "metadata": {
        "id": "lrdXu9XEkF9g"
      }
    },
    {
      "cell_type": "code",
      "source": [
        "print(df.isnull().sum())"
      ],
      "metadata": {
        "colab": {
          "base_uri": "https://localhost:8080/"
        },
        "id": "Aeg2lnHUj84h",
        "outputId": "99d50670-dda2-441e-ffe4-fc8115ede15f"
      },
      "execution_count": 70,
      "outputs": [
        {
          "output_type": "stream",
          "name": "stdout",
          "text": [
            "dateCrawled                0\n",
            "name                       0\n",
            "seller                     0\n",
            "offerType                  0\n",
            "price                      0\n",
            "abtest                     0\n",
            "vehicleType            11276\n",
            "yearOfRegistration         0\n",
            "gearbox                 5973\n",
            "powerPS                    0\n",
            "model                   5900\n",
            "kilometer                  0\n",
            "monthOfRegistration        0\n",
            "fuelType               10033\n",
            "brand                      0\n",
            "notRepairedDamage      21640\n",
            "dateCreated                0\n",
            "nrOfPictures               0\n",
            "postalCode                 0\n",
            "lastSeen                   0\n",
            "dtype: int64\n"
          ]
        }
      ]
    },
    {
      "cell_type": "markdown",
      "source": [
        "vehicleType, gearbox, model, fuelType - имеют пропуски скорее всего из-за того что продавец не указал эти данные"
      ],
      "metadata": {
        "id": "5cX86dlwkSqY"
      }
    },
    {
      "cell_type": "markdown",
      "source": [
        "notRepairedDamage - скорее всего имеет пропуски, потому что у машин на продаже нет неустраненных повреждений"
      ],
      "metadata": {
        "id": "6TGt_Dqxkp5p"
      }
    },
    {
      "cell_type": "markdown",
      "source": [
        "Удаление стобцов и заполнение пропусков"
      ],
      "metadata": {
        "id": "_eEbr9JKk9nY"
      }
    },
    {
      "cell_type": "code",
      "source": [
        "df = df.drop(['nrOfPictures', 'dateCrawled', 'lastSeen'], axis=1)  # Бесполезные признаки"
      ],
      "metadata": {
        "id": "w4WP0FnklCSx"
      },
      "execution_count": 71,
      "outputs": []
    },
    {
      "cell_type": "markdown",
      "source": [
        "Масштабирование числовых признаков"
      ],
      "metadata": {
        "id": "u_gnCg04mj6I"
      }
    },
    {
      "cell_type": "code",
      "source": [
        "sns.boxplot(data=df[['price', 'powerPS', 'kilometer']])"
      ],
      "metadata": {
        "colab": {
          "base_uri": "https://localhost:8080/",
          "height": 448
        },
        "id": "MdMuFPttmr5x",
        "outputId": "eda8dc25-e61b-464e-8e7c-fe94d47755fe"
      },
      "execution_count": 72,
      "outputs": [
        {
          "output_type": "execute_result",
          "data": {
            "text/plain": [
              "<Axes: >"
            ]
          },
          "metadata": {},
          "execution_count": 72
        },
        {
          "output_type": "display_data",
          "data": {
            "text/plain": [
              "<Figure size 640x480 with 1 Axes>"
            ],
            "image/png": "[encoded data removed]"
          },
          "metadata": {}
        }
      ]
    },
    {
      "cell_type": "markdown",
      "source": [
        "Так как данные не нормализованы буду использовать"
      ],
      "metadata": {
        "id": "7sb2vJofnDbo"
      }
    },
    {
      "cell_type": "code",
      "source": [
        "from sklearn.preprocessing import StandardScaler\n",
        "scaler = StandardScaler()\n",
        "df[['powerPS', 'kilometer']] = scaler.fit_transform(df[['powerPS', 'kilometer']])"
      ],
      "metadata": {
        "id": "bxrCu2YnnZrQ"
      },
      "execution_count": 73,
      "outputs": []
    },
    {
      "cell_type": "code",
      "source": [
        "sns.boxplot(data=df[['powerPS', 'kilometer']])"
      ],
      "metadata": {
        "colab": {
          "base_uri": "https://localhost:8080/",
          "height": 448
        },
        "id": "HE6onKY3neaY",
        "outputId": "041fa593-5605-4817-d2e7-fc80eceb328e"
      },
      "execution_count": 74,
      "outputs": [
        {
          "output_type": "execute_result",
          "data": {
            "text/plain": [
              "<Axes: >"
            ]
          },
          "metadata": {},
          "execution_count": 74
        },
        {
          "output_type": "display_data",
          "data": {
            "text/plain": [
              "<Figure size 640x480 with 1 Axes>"
            ],
            "image/png": "[encoded data removed]"
          },
          "metadata": {}
        }
      ]
    },
    {
      "cell_type": "markdown",
      "source": [
        "Замена категориальных признаков"
      ],
      "metadata": {
        "id": "qIsHqDHxo4E5"
      }
    },
    {
      "cell_type": "markdown",
      "source": [
        "Буду использовать LabelEncoder потому что много уникальных значений"
      ],
      "metadata": {
        "id": "CLlLXRgRpZex"
      }
    },
    {
      "cell_type": "code",
      "source": [
        "from sklearn.preprocessing import LabelEncoder\n",
        "\n",
        "object_cols = df.select_dtypes(include=['object']).columns\n",
        "\n",
        "for col in object_cols:\n",
        "    df[col] = LabelEncoder().fit_transform(df[col])"
      ],
      "metadata": {
        "id": "QL9sFRXXo8OI"
      },
      "execution_count": 75,
      "outputs": []
    },
    {
      "cell_type": "markdown",
      "source": [
        "Решение задачи регрессии"
      ],
      "metadata": {
        "id": "F5O3xPRhqexQ"
      }
    },
    {
      "cell_type": "code",
      "source": [
        "from sklearn.model_selection import train_test_split\n",
        "\n",
        "X = df.drop('price', axis=1)\n",
        "y = df['price']\n",
        "\n",
        "X_train, X_test, y_train, y_test = train_test_split(X, y, test_size=0.2, random_state=42)"
      ],
      "metadata": {
        "id": "fuGif2uwqj5w"
      },
      "execution_count": 76,
      "outputs": []
    },
    {
      "cell_type": "markdown",
      "source": [
        "Без регуляризаторов"
      ],
      "metadata": {
        "id": "pa6EvkTOtGFw"
      }
    },
    {
      "cell_type": "code",
      "source": [
        "from sklearn.linear_model import LinearRegression\n",
        "from sklearn.metrics import mean_squared_error\n",
        "\n",
        "lr = LinearRegression()\n",
        "lr.fit(X_train, y_train)\n",
        "\n",
        "y_pred = lr.predict(X_test)\n",
        "\n",
        "mse = mean_squared_error(y_test, y_pred)\n",
        "print(mse)"
      ],
      "metadata": {
        "colab": {
          "base_uri": "https://localhost:8080/"
        },
        "id": "VjYk1U73tIMI",
        "outputId": "6a637ada-bab2-41cc-a363-44ef8b9ab9b5"
      },
      "execution_count": 77,
      "outputs": [
        {
          "output_type": "stream",
          "name": "stdout",
          "text": [
            "11834119.551876219\n"
          ]
        }
      ]
    },
    {
      "cell_type": "markdown",
      "source": [
        "LASSO регуляризатор"
      ],
      "metadata": {
        "id": "R-p3gYgXtVwA"
      }
    },
    {
      "cell_type": "code",
      "source": [
        "from sklearn.linear_model import Lasso\n",
        "from sklearn.model_selection import GridSearchCV\n",
        "\n",
        "param_grid = {'alpha': [0.001, 0.01, 0.1, 1, 10, 100]}\n",
        "lasso = Lasso()\n",
        "grid_search = GridSearchCV(lasso, param_grid, cv=5, scoring='neg_mean_squared_error', refit=True)\n",
        "grid_search.fit(X_train, y_train)\n",
        "\n",
        "best_lasso = grid_search.best_estimator_\n",
        "y_pred_lasso = best_lasso.predict(X_test)\n",
        "\n",
        "mse_lasso = mean_squared_error(y_test, y_pred_lasso)\n",
        "print(mse_lasso)"
      ],
      "metadata": {
        "colab": {
          "base_uri": "https://localhost:8080/"
        },
        "id": "uQm8RZaJtd2g",
        "outputId": "902462c7-bdd5-4e0b-c765-c1739cad2206"
      },
      "execution_count": 78,
      "outputs": [
        {
          "output_type": "stream",
          "name": "stdout",
          "text": [
            "11834388.757805344\n"
          ]
        }
      ]
    },
    {
      "cell_type": "markdown",
      "source": [
        "refit=True - модель сама переобучится после подбора лучших параметров"
      ],
      "metadata": {
        "id": "Q_NtqREIueXZ"
      }
    },
    {
      "cell_type": "markdown",
      "source": [
        "метрика neg_mean_squared_error - сильнее штрафует за большие ошибки"
      ],
      "metadata": {
        "id": "jC7qCF33vRPp"
      }
    },
    {
      "cell_type": "markdown",
      "source": [
        "Корреляция"
      ],
      "metadata": {
        "id": "nNHdmHOyuxFZ"
      }
    },
    {
      "cell_type": "code",
      "source": [
        "from scipy.stats import pearsonr, spearmanr\n",
        "\n",
        "# Пирсон\n",
        "pearson_corr, pearson_p = pearsonr(y_test, y_pred)\n",
        "print(\"Пирсон:\", pearson_corr, pearson_p)\n",
        "# Спирмен\n",
        "spearman_corr, spearman_p = spearmanr(y_test, y_pred)\n",
        "print(\"Спирмен:\", spearman_corr, spearman_p)"
      ],
      "metadata": {
        "colab": {
          "base_uri": "https://localhost:8080/"
        },
        "id": "WY2en69UuwkZ",
        "outputId": "0c748c4e-3343-46cf-af53-6dfbc3633993"
      },
      "execution_count": 79,
      "outputs": [
        {
          "output_type": "stream",
          "name": "stdout",
          "text": [
            "Пирсон: 0.44600834536184975 0.0\n",
            "Спирмен: 0.46237427115355023 0.0\n"
          ]
        }
      ]
    },
    {
      "cell_type": "markdown",
      "source": [
        "Значение p-value = 0, а значит статистическая связь значима"
      ],
      "metadata": {
        "id": "V06cVUM2v7Hp"
      }
    }
  ]
}